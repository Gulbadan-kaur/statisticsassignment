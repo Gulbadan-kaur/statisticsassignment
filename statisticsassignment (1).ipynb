{
 "cells": [
  {
   "cell_type": "code",
   "execution_count": null,
   "id": "d1d225b0-9cb3-4e01-a5a1-9182b229c09a",
   "metadata": {},
   "outputs": [],
   "source": [
    "Question1:\n",
    "Answer1: Statistics is a branch of mathematics that deals with collecting, organizing, analyzing, interpreting and presenting data. It helps to understand\n",
    "patterns and trends and relationship in data.\n",
    "Importance of statistics:\n",
    "1. It helps in trends analysis which helps in better decision making.\n",
    "2. It helps in improving quality of product by analysis\n",
    "3. Helps in risk analysis based on historical data.\n",
    "4. Helps in research work also."
   ]
  },
  {
   "cell_type": "code",
   "execution_count": null,
   "id": "49cfeedf-7d4a-4622-9cfb-317a6ed6e9ea",
   "metadata": {},
   "outputs": [],
   "source": [
    "Question2:\n",
    "Answer: Two main types of statistics are:\n",
    "1. Descriptive Statistics: Summarize and describe features of statistics. Eg: Mean, Median, Mode.\n",
    "2. Inferential Statistics: Draw conclusion and make decision and prediction based on sample data. "
   ]
  },
  {
   "cell_type": "code",
   "execution_count": null,
   "id": "440924ae-249d-4347-966a-05886baff616",
   "metadata": {},
   "outputs": [],
   "source": [
    "Question3:\n",
    "Answer: Summarize and describe features of statistics in a meaningful way. It helps in making data easy to handle and understand.\n",
    "In this we measure mean, median, mode, range, variance, standard deviation, percentile."
   ]
  },
  {
   "cell_type": "code",
   "execution_count": null,
   "id": "26c6b649-680b-4192-83df-75ffa9751187",
   "metadata": {},
   "outputs": [],
   "source": [
    "Question4:\n",
    "Answer: It is a branch of statistics that involve using data from sample to make conclusion or predictions about larger population.\n"
   ]
  },
  {
   "cell_type": "code",
   "execution_count": null,
   "id": "026b30da-a15c-4756-aa27-7b8d39b311b7",
   "metadata": {},
   "outputs": [],
   "source": [
    "Question5:\n",
    "Answer: Sampling is the process of selecting subset of individual or items from larger data to study and draw conclusions.\n"
   ]
  },
  {
   "cell_type": "code",
   "execution_count": null,
   "id": "014e4134-1159-4189-9be1-706527ddcb61",
   "metadata": {},
   "outputs": [],
   "source": [
    "Question6:\n",
    "Answer: Different types of sampling methods are:\n",
    "1. Simple random Sampling: Every individual has an equal chance of being selected. This can be achieved using random number \n",
    "generators or drawing lots.\n",
    "2. Systematic Sampling: A starting point is selected randomly, and then every k-th individual is chosen from the list. \n",
    "3. Stratified Sampling: The population is divided into subgroups (strata) based on a shared characteristic (e.g., age, gender).\n",
    "Random samples are then drawn from each stratum, either proportionally or equally.\n",
    "4. Clustor Sampling: The population is divided into clusters, often based on geographical areas. A random sample of clusters is selected, and then all \n",
    "    or a random sample of individuals within those clusters are surveyed.\n",
    "5. Multistage Sampling: A combination of sampling methods is used in stages. For example, first selecting clusters, \n",
    "    then choosing individuals within those clusters."
   ]
  },
  {
   "cell_type": "code",
   "execution_count": null,
   "id": "e897d209-d5a5-4885-af20-b9bce0694c84",
   "metadata": {},
   "outputs": [],
   "source": [
    "Question7: \n",
    "Answer: Random Sampling:\n",
    "1. Equal Selection propabability.\n",
    "2. Reduced bias.\n",
    "3. Generalizability high\n",
    "4. Statistical Analysis\n",
    "5. Eg: Simple Random, Stratified, Cluster\n",
    "Non- random Sampling:\n",
    "1. BAsed on criteria or convenience.\n",
    "2. Higher bias.\n",
    "3. Limited generalizability.\n",
    "4. Less suitable for statistical analysis.\n",
    "5. Eg: Convenience, Judgemental, snowball\n"
   ]
  },
  {
   "cell_type": "code",
   "execution_count": null,
   "id": "e9c2b8f9-a97c-457b-9d73-78e20fa76779",
   "metadata": {},
   "outputs": [],
   "source": [
    "Question8:\n",
    "Answer:\n",
    "Qualitative data refers to non-numeric information that describes qualities or characteristics. \n",
    "It provides insights into the attributes, behaviors, opinions, or experiences of individuals or groups.\n",
    "Eg:1.Interview responses describing a patient's feelings about their treatment\n",
    "2.Focus group discussions on consumer perceptions of a brand\n",
    "3.Observational notes detailing classroom interactions\n",
    "4. Open-ended survey answers explaining reasons for product satisfaction or dissatisfaction\n",
    "\n",
    "Quantitative data refers to information that can be measured and expressed numerically. \n",
    "It is used to quantify variables and is suitable for statistical analysis.\n",
    "Eg: 1. Age of participants in a study\n",
    "2.Height and weight measurements\n",
    "3.Test scores or survey ratings on a Likert scale\n",
    "4.Income levels or sales figures\n"
   ]
  },
  {
   "cell_type": "code",
   "execution_count": null,
   "id": "768119a2-b64d-45c2-9b2d-aaf43da0f7ee",
   "metadata": {},
   "outputs": [],
   "source": [
    "Question9:\n",
    "Answer: There are 2 types of data qualitative and quantitative\n",
    "1. Qualitative: This type of data represents categories or labels that cannot be quantified numerically. \n",
    "It's used to describe qualities or characteristics.\n",
    "Nominal Data: Categorical data without any inherent order.\n",
    "Examples: Gender (Male, Female), Nationality (Indian, American), Blood Type (A, B, O)\n",
    "Ordinal Data: Categorical data with a meaningful order, but without consistent differences between categories.\n",
    "Examples: Education Level (High School, Bachelor's, Master's), Customer Satisfaction (Very Unsatisfied, Unsatisfied, Neutral, Satisfied, Very Satisfied)\n",
    "2. Quantitative: This type of data represents quantities and can be measured and expressed numerically. \n",
    "It's used to quantify variables and perform mathematical operations.\n",
    "Discrete Data: Numerical data that can take only specific, distinct values, often counts.\n",
    "Examples: Number of students in a class, Number of cars in a parking lot\n",
    "Continuous Data: Numerical data that can take any value within a given range and can be measured with precision.\n",
    "Examples: Height (e.g., 5.75 feet), Weight (e.g., 70.5 kg), Time (e.g., 12.34 seconds)"
   ]
  },
  {
   "cell_type": "code",
   "execution_count": null,
   "id": "277ab25d-cc4e-40b5-aa42-85b36d0042a1",
   "metadata": {},
   "outputs": [],
   "source": [
    "Question10:\n",
    "Answer: Nominal Data: Categorical data without any inherent order.\n",
    "Examples: Gender (Male, Female), Nationality (Indian, American), Blood Type (A, B, O)\n",
    "Ordinal Data: Categorical data with a meaningful order, but without consistent differences between categories.\n",
    "Examples: Education Level (High School, Bachelor's, Master's), Customer Satisfaction (Very Unsatisfied, Unsatisfied, Neutral, Satisfied, Very Satisfied)\n",
    "Interval Data: Interval data is numerical data with equal intervals between values, but it lacks a true zero point. \n",
    "This means zero does not represent the absence of the quantity being measured.\n",
    "Ratio: Ratio data is numerical data that has all the properties of interval data, with the addition of a true zero point. \n",
    "This true zero indicates the complete absence of the quantity being measured."
   ]
  },
  {
   "cell_type": "code",
   "execution_count": null,
   "id": "8d0ce495-6be1-463b-a9b5-54dea0aef900",
   "metadata": {},
   "outputs": [],
   "source": [
    "Question11:\n",
    "Answer: measures of central tendency are numerical values that summarize a dataset by identifying the central or typical value. \n",
    "They provide a single value that represents the entire distribution, aiding in understanding the general trend of the data. \n",
    "The three most commonly used measures are the mean, median, and mode."
   ]
  },
  {
   "cell_type": "code",
   "execution_count": null,
   "id": "3f62be76-4e6f-4574-ac2f-2242ced74c19",
   "metadata": {},
   "outputs": [],
   "source": [
    "Question12:\n",
    "Answer: 1.Simplification of Data:These measures condense large datasets into a single representative value, making complex \n",
    "data more understandable and manageable.\n",
    "2.Facilitation of Comparisons\n",
    "By providing a central value, they enable comparisons between different datasets or groups, aiding in identifying similarities and differences.\n",
    "3.Foundation for Further Analysis\n",
    "They serve as the basis for other statistical analyses, such as measures of dispersion (like range and standard deviation), \n",
    "which assess the spread of data around the central value.\n",
    "4.Identification of Trends and Patterns\n",
    "In fields like education and psychology, central tendency measures help in identifying trends, such as average test \n",
    "scores or typical symptom severity, guiding interventions and decisions.\n",
    "5.Policy and Decision Making\n",
    "Governments and organizations use these measures to inform policies and decisions. For instance, average income data can influence \n",
    "economic policies, while median age data can affect healthcare planning."
   ]
  },
  {
   "cell_type": "code",
   "execution_count": null,
   "id": "696207ce-080a-4a02-b8c9-8e51e3c90b1c",
   "metadata": {},
   "outputs": [],
   "source": [
    "Question13: \n",
    "Answer: Mean: The mean is the sum of all values in a dataset divided by the number of values.\n",
    "Median: The median is the middle value in an ordered dataset. If the number of values is odd, it's the middle number; if even, \n",
    "it's the average of the two middle numbers.\n",
    "Mode: The mode is the value that appears most frequently in a dataset. A dataset may have one mode (unimodal), \n",
    "more than one mode (bimodal or multimodal), or no mode if all values occur with the same frequency."
   ]
  },
  {
   "cell_type": "code",
   "execution_count": null,
   "id": "faea79f8-74e2-42ec-85be-13ce7106fbc5",
   "metadata": {},
   "outputs": [],
   "source": [
    "Question14:\n",
    "Answer: Variance is a statistical measure that quantifies the degree of spread or dispersion in a dataset. \n",
    "It indicates how much individual data points differ from the mean (average) of the dataset.\n"
   ]
  },
  {
   "cell_type": "code",
   "execution_count": null,
   "id": "9a774ac7-e315-493b-8d4d-fba0fd2636f3",
   "metadata": {},
   "outputs": [],
   "source": [
    "Question15:\n",
    "Answer: Standard Deviation is a statistical measure that quantifies the amount of variation or dispersion in a dataset. \n",
    "It indicates how much individual data points differ from the mean (average) of the dataset.\n",
    "A low standard deviation means that the data points tend to be close to the mean, \n",
    "whereas a high standard deviation means that the data points are spread out over a wider range of values.\n",
    "Importance:\n",
    "1.Risk Assessment in Finance\n",
    "2.Quality Control in Manufacturing\n",
    "3.Performance Evaluation\n",
    "4.Education and Research"
   ]
  },
  {
   "cell_type": "code",
   "execution_count": null,
   "id": "6fadd377-0523-445f-99b4-91968367e4d1",
   "metadata": {},
   "outputs": [],
   "source": [
    "Question16:\n",
    "Answer: Range is a fundamental measure of dispersion in statistics that quantifies the spread between the highest and lowest values in a dataset.\n",
    "Identify the Maximum Value (H): Find the highest value in your dataset.\n",
    "Identify the Minimum Value (L): Find the lowest value in your dataset."
   ]
  },
  {
   "cell_type": "code",
   "execution_count": null,
   "id": "4252720e-5a7c-4797-99b2-d715b83dd003",
   "metadata": {},
   "outputs": [],
   "source": [
    "Question17:\n",
    "Answer: Variance:\n",
    "Average of squared differences from the mean.\n",
    "Squared units of the original data (e.g., m², cm²).\n",
    "Measures the degree of spread in squared units.\n",
    "High sensitivity due to squaring differences.\n",
    "More complex due to squaring and averaging.\n",
    "Theoretical analysis, statistical modeling.\n",
    "Standard Deviation:\n",
    "Square root of the variance.\n",
    "Same units as the original data (e.g., m, cm).\n",
    "Measures spread in the same units as the data.\n",
    "Less sensitive, as it returns to original units.\n",
    "Simpler, as it involves taking the square root.\n",
    "Practical data analysis, risk assessment."
   ]
  },
  {
   "cell_type": "code",
   "execution_count": null,
   "id": "b1715ab7-25d0-4158-bdc4-3cd2391d2bc2",
   "metadata": {},
   "outputs": [],
   "source": [
    "Question18:\n",
    "Answer:\n",
    "Skewness is a statistical measure that quantifies the asymmetry or deviation from symmetry in a dataset's distribution. \n",
    "It indicates whether the data leans more to the left or right of the mean, providing insights into the shape and characteristics \n",
    "of the data distribution."
   ]
  },
  {
   "cell_type": "code",
   "execution_count": null,
   "id": "b3d95ea9-14ad-4d14-a459-f3f1c14e3412",
   "metadata": {},
   "outputs": [],
   "source": [
    "Question19:\n",
    "Answer:Positive Skewness (Right Skew):\n",
    "The right tail (larger values) is longer or fatter than the left tail.\n",
    "Mean > Median > Mode.\n",
    "Common in income distributions, where most people earn moderate incomes, but a few earn extremely high incomes.\n",
    "Negative Skewness (Left Skew):\n",
    "The left tail (smaller values) is longer or fatter than the right tail.\n",
    "Mean < Median < Mode.\n",
    "Observed in test scores on an easy exam, where most students score well, but a few score very low."
   ]
  },
  {
   "cell_type": "code",
   "execution_count": null,
   "id": "0ebec30b-0b18-4548-ba1d-33d717ca1ed2",
   "metadata": {},
   "outputs": [],
   "source": [
    "Question20:\n",
    "Answer:Kurtosis is a statistical measure that describes the shape of a distribution's tails in relation to its overall shape. \n",
    "It indicates the presence of outliers and the extremity of data points far from the mean."
   ]
  },
  {
   "cell_type": "code",
   "execution_count": null,
   "id": "1ae1ee2d-a453-4443-99c4-9848463552fa",
   "metadata": {},
   "outputs": [],
   "source": [
    "Question21:\n",
    "Answer: 1.Assessing Directional Relationship: Covariance reveals whether two variables move in the same direction (positive covariance) or \n",
    "in opposite directions (negative covariance).\n",
    "2. Portfolio Diversification: In finance, covariance is crucial for portfolio management. By combining assets with low or negative covariance, \n",
    "investors can reduce overall portfolio risk, as the assets' returns are less likely to move in the same direction simultaneously.\n",
    "3. Understanding Variable Interdependence: Covariance helps in identifying whether two variables are related and to \n",
    "what extent they influence each other. This is particularly useful in fields like economics, biology, and meteorology."
   ]
  },
  {
   "cell_type": "code",
   "execution_count": null,
   "id": "00b769b8-7d5d-47ee-abb2-c5270a642a90",
   "metadata": {},
   "outputs": [],
   "source": [
    "Question22:\n",
    "Answer: Correlation in statistics is a measure that quantifies the degree to which two variables are related.\n",
    "Specifically, it assesses the strength and direction of a linear relationship between them"
   ]
  },
  {
   "cell_type": "code",
   "execution_count": null,
   "id": "f6ebfbd6-bcc9-49cc-8d2f-474b9898ab58",
   "metadata": {},
   "outputs": [],
   "source": [
    "Question23:\n",
    "Answer: Covariance:\n",
    "Measures the directional relationship between two variables.\n",
    "−∞ to +∞\n",
    "Product of the units of X and Y\n",
    "Indicates the direction of the relationship (positive or negative).\n",
    "Sensitive to the scale of the variables.\n",
    "Useful in portfolio theory to understand how asset returns move together.\n",
    "Correlation:\n",
    "Measures both the strength and direction of the linear relationship between two variables.\n",
    "−1 to +1\n",
    "Unitless\n",
    "Indicates both the direction and strength of the relationship.\n",
    "Not sensitive; standardized measure.\n",
    "Useful in determining the strength and direction of a linear relationship between variables."
   ]
  },
  {
   "cell_type": "code",
   "execution_count": null,
   "id": "a8ba2565-698a-428e-93a9-50f5dff0d6d5",
   "metadata": {},
   "outputs": [],
   "source": [
    "Question24:\n",
    "Answer: 1. Healthcare and Medical Research\n",
    "Clinical Trials: Statistics are essential in designing and analyzing clinical trials to determine the efficacy of new drugs and treatments.\n",
    "Epidemiology: Statistical models help in tracking disease outbreaks and understanding health trends, aiding in public health decision-making.\n",
    "Personalized Medicine: Analyzing patient data allows for tailored treatment plans based on individual health profiles.\n",
    "2. Weather Forecasting\n",
    "Meteorologists use statistical models to analyze historical weather data, which helps in predicting future weather patterns and natural disasters.\n",
    "This information is crucial for agriculture, disaster preparedness, and daily planning\n",
    "3. Insurance and Risk Management\n",
    "Insurance companies utilize statistical data to assess risks and determine appropriate premiums for policies.\n",
    "Actuaries apply statistical methods to predict future claims and ensure financial stability.\n",
    "4. Business and Economics\n",
    "Market Research: Businesses analyze consumer behavior and market trends to make informed decisions about products and services.\n",
    "Economic Planning: Governments and organizations use statistical data to formulate policies and allocate resources effectively.\n",
    "5. Sports Analytics\n",
    "Teams and coaches analyze player performance and game statistics to develop strategies and improve outcomes.\n",
    "Fantasy sports enthusiasts also rely on statistical data to make informed decisions.\n",
    "6. Education\n",
    "Educational institutions use statistics to assess student performance, evaluate teaching methods, and improve curricula.\n",
    "Research in education often involves statistical analysis to understand learning outcomes and trends."
   ]
  }
 ],
 "metadata": {
  "kernelspec": {
   "display_name": "Python [conda env:base] *",
   "language": "python",
   "name": "conda-base-py"
  },
  "language_info": {
   "codemirror_mode": {
    "name": "ipython",
    "version": 3
   },
   "file_extension": ".py",
   "mimetype": "text/x-python",
   "name": "python",
   "nbconvert_exporter": "python",
   "pygments_lexer": "ipython3",
   "version": "3.12.7"
  }
 },
 "nbformat": 4,
 "nbformat_minor": 5
}
